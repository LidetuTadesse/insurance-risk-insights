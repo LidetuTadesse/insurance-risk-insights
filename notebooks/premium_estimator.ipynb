{
 "cells": [
  {
   "cell_type": "code",
   "execution_count": null,
   "id": "b5bfd326",
   "metadata": {},
   "outputs": [],
   "source": [
    "import sys\n",
    "import os\n",
    "\n",
    "sys.path.append(os.path.abspath(\"..\"))"
   ]
  },
  {
   "cell_type": "code",
   "execution_count": null,
   "id": "24f29df7",
   "metadata": {},
   "outputs": [],
   "source": [
    "import numpy as np\n",
    "import pandas as pd\n",
    "import matplotlib.pyplot as plt\n",
    "from sklearn.model_selection import train_test_split\n",
    "from sklearn.ensemble import RandomForestClassifier, RandomForestRegressor\n",
    "from scripts.data_preprocessing import load_and_prepare_data, prepare_data_for_claim_probability, prepare_data_for_claim_severity\n",
    "\n",
    "\n",
    "\n"
   ]
  },
  {
   "cell_type": "code",
   "execution_count": null,
   "id": "c6504b6f",
   "metadata": {},
   "outputs": [],
   "source": [
    "\n",
    "# Load data\n",
    "df, claim_data = load_and_prepare_data(\"../data/raw/insurance_data.txt\")\n",
    "\n"
   ]
  },
  {
   "cell_type": "code",
   "execution_count": null,
   "id": "4a113c3b",
   "metadata": {},
   "outputs": [],
   "source": [
    "# Prepare data\n",
    "X_prob, y_prob = prepare_data_for_claim_probability(df)\n",
    "X_sev, y_sev = prepare_data_for_claim_severity(claim_data)"
   ]
  },
  {
   "cell_type": "code",
   "execution_count": null,
   "id": "f8680365",
   "metadata": {},
   "outputs": [],
   "source": [
    "#Train Model\n",
    "# Probability model\n",
    "X_train_p, X_test_p, y_train_p, y_test_p = train_test_split(X_prob, y_prob, test_size=0.2, random_state=42, stratify=y_prob)\n",
    "clf = RandomForestClassifier(n_estimators=100, random_state=42)\n",
    "clf.fit(X_train_p, y_train_p)\n",
    "prob_preds = clf.predict_proba(X_prob)[:, 1]\n",
    "\n",
    "# Severity model\n",
    "X_train_s, X_test_s, y_train_s, y_test_s = train_test_split(X_sev, y_sev, test_size=0.2, random_state=42)\n",
    "reg = RandomForestRegressor(n_estimators=100, random_state=42)\n",
    "reg.fit(X_train_s, y_train_s)\n",
    "sev_preds = reg.predict(X_prob)  # Use same full dataset"
   ]
  },
  {
   "cell_type": "code",
   "execution_count": null,
   "id": "1cb4d2ed",
   "metadata": {},
   "outputs": [],
   "source": [
    "# Set business constants\n",
    "EXPENSE_LOADING = 100  # base operating cost per policy\n",
    "PROFIT_MARGIN = 0.15   # 15%\n",
    "\n",
    "# Compute premium\n",
    "premium = (prob_preds * sev_preds) + EXPENSE_LOADING\n",
    "premium_with_margin = premium * (1 + PROFIT_MARGIN)\n",
    "\n",
    "df[\"PredictedPremium\"] = premium_with_margin\n",
    "\n",
    "# Preview\n",
    "df[[\"PredictedPremium\", \"CalculatedPremiumPerTerm\"]].head()\n"
   ]
  },
  {
   "cell_type": "code",
   "execution_count": null,
   "id": "2237db48",
   "metadata": {},
   "outputs": [],
   "source": [
    "# Set business constants\n",
    "EXPENSE_LOADING = 100  # base operating cost per policy\n",
    "PROFIT_MARGIN = 0.15   # 15%\n",
    "\n",
    "# Compute premium\n",
    "premium = (prob_preds * sev_preds) + EXPENSE_LOADING\n",
    "premium_with_margin = premium * (1 + PROFIT_MARGIN)\n",
    "\n",
    "df[\"PredictedPremium\"] = premium_with_margin\n",
    "\n",
    "# Preview\n",
    "df[[\"PredictedPremium\", \"CalculatedPremiumPerTerm\"]].head()\n"
   ]
  },
  {
   "cell_type": "code",
   "execution_count": null,
   "id": "2518fd73",
   "metadata": {},
   "outputs": [],
   "source": [
    "#visualize distribution\n",
    "plt.figure(figsize=(10, 6))\n",
    "plt.hist(df[\"PredictedPremium\"], bins=50, alpha=0.6, label=\"Model Predicted\")\n",
    "plt.hist(df[\"CalculatedPremiumPerTerm\"], bins=50, alpha=0.6, label=\"Original Premium\")\n",
    "plt.xlabel(\"Premium Amount\")\n",
    "plt.ylabel(\"Frequency\")\n",
    "plt.title(\"Distribution: Model vs. Original Premium\")\n",
    "plt.legend()\n",
    "plt.tight_layout()\n",
    "plt.show()\n"
   ]
  },
  {
   "cell_type": "code",
   "execution_count": null,
   "id": "cc648b4d",
   "metadata": {},
   "outputs": [],
   "source": [
    "#business comparison\n",
    "# Compare mean premiums\n",
    "mean_model = df[\"PredictedPremium\"].mean()\n",
    "mean_actual = df[\"CalculatedPremiumPerTerm\"].mean()\n",
    "\n",
    "print(f\"Mean Model Premium: R {mean_model:.2f}\")\n",
    "print(f\"Mean Actual Premium: R {mean_actual:.2f}\")\n",
    "\n",
    "# Over/Under-pricing insight\n",
    "df[\"PriceDiff\"] = df[\"PredictedPremium\"] - df[\"CalculatedPremiumPerTerm\"]\n",
    "print(\"Percentage Overpriced:\", (df[\"PriceDiff\"] > 0).mean())\n",
    "print(\"Percentage Underpriced:\", (df[\"PriceDiff\"] < 0).mean())\n"
   ]
  },
  {
   "cell_type": "code",
   "execution_count": null,
   "id": "74de0579",
   "metadata": {},
   "outputs": [],
   "source": []
  }
 ],
 "metadata": {
  "kernelspec": {
   "display_name": ".venv",
   "language": "python",
   "name": "python3"
  },
  "language_info": {
   "codemirror_mode": {
    "name": "ipython",
    "version": 3
   },
   "file_extension": ".py",
   "mimetype": "text/x-python",
   "name": "python",
   "nbconvert_exporter": "python",
   "pygments_lexer": "ipython3",
   "version": "3.12.7"
  }
 },
 "nbformat": 4,
 "nbformat_minor": 5
}
