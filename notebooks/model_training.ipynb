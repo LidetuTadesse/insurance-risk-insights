{
 "cells": [
  {
   "cell_type": "code",
   "execution_count": 1,
   "id": "d47de77e",
   "metadata": {},
   "outputs": [],
   "source": [
    "import sys\n",
    "import os\n",
    "\n",
    "sys.path.append(os.path.abspath(\"..\"))"
   ]
  },
  {
   "cell_type": "code",
   "execution_count": 3,
   "id": "021b9e17",
   "metadata": {},
   "outputs": [],
   "source": [
    "#importing libraries \n",
    "from scripts.data_preprocessing import load_and_prepare_data, prepare_data_for_claim_probability\n",
    "from scripts.model_severity import evaluate_models\n",
    "from sklearn.model_selection import train_test_split\n"
   ]
  },
  {
   "cell_type": "code",
   "execution_count": 5,
   "id": "9c6757ce",
   "metadata": {},
   "outputs": [],
   "source": [
    "full_df, claim_df = load_and_prepare_data(\"../data/raw/insurance_data.txt\")"
   ]
  },
  {
   "cell_type": "code",
   "execution_count": null,
   "id": "418227ed",
   "metadata": {},
   "outputs": [],
   "source": []
  },
  {
   "cell_type": "code",
   "execution_count": 6,
   "id": "581efe7c",
   "metadata": {},
   "outputs": [
    {
     "data": {
      "text/plain": [
       "{'LinearRegression': {'RMSE': np.float64(36151.48163075642),\n",
       "  'R2': 0.18735814820140528},\n",
       " 'RandomForest': {'RMSE': np.float64(35046.34170676206),\n",
       "  'R2': 0.23628316324879484},\n",
       " 'XGBoost': {'RMSE': np.float64(36618.46933526364), 'R2': 0.16622790424224898}}"
      ]
     },
     "execution_count": 6,
     "metadata": {},
     "output_type": "execute_result"
    }
   ],
   "source": [
    "X = claim_df.drop(columns=[\"TotalClaims\"])\n",
    "y = claim_df[\"TotalClaims\"]\n",
    "\n",
    "X_train, X_test, y_train, y_test = train_test_split(X, y, test_size=0.2, random_state=42)\n",
    "\n",
    "results = evaluate_models(X_train, X_test, y_train, y_test)\n",
    "results"
   ]
  },
  {
   "cell_type": "code",
   "execution_count": 8,
   "id": "fb525371",
   "metadata": {},
   "outputs": [],
   "source": [
    "# Prepare for binary classification\n",
    "X, y = prepare_data_for_claim_probability(full_df)"
   ]
  },
  {
   "cell_type": "code",
   "execution_count": null,
   "id": "663e3762",
   "metadata": {},
   "outputs": [],
   "source": []
  }
 ],
 "metadata": {
  "kernelspec": {
   "display_name": ".venv",
   "language": "python",
   "name": "python3"
  },
  "language_info": {
   "codemirror_mode": {
    "name": "ipython",
    "version": 3
   },
   "file_extension": ".py",
   "mimetype": "text/x-python",
   "name": "python",
   "nbconvert_exporter": "python",
   "pygments_lexer": "ipython3",
   "version": "3.12.7"
  }
 },
 "nbformat": 4,
 "nbformat_minor": 5
}
